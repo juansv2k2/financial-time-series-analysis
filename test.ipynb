{
 "cells": [
  {
   "cell_type": "code",
   "execution_count": null,
   "id": "0be49dc0",
   "metadata": {},
   "outputs": [],
   "source": [
    "# Step 1: Import Required Libraries\n",
    "import pandas as pd\n",
    "import numpy as np\n",
    "import matplotlib.pyplot as plt\n",
    "from statsmodels.tsa.statespace.sarimax import SARIMAX\n",
    "from statsmodels.graphics.tsaplots import plot_acf, plot_pacf\n",
    "from datetime import timedelta\n",
    "\n"
   ]
  },
  {
   "cell_type": "code",
   "execution_count": null,
   "id": "d41abbbd",
   "metadata": {},
   "outputs": [],
   "source": [
    "# Step 2: Load the Dataset\n",
    "# Assuming your dataset is in a CSV file named 'dow_index.csv'\n",
    "# and has columns 'Date' and 'Close'\n",
    "df = pd.read_csv('dow_index.csv')\n",
    "df['Date'] = pd.to_datetime(df['Date'])\n",
    "df.set_index('Date', inplace=True)"
   ]
  },
  {
   "cell_type": "code",
   "execution_count": null,
   "id": "1f7d87ea",
   "metadata": {},
   "outputs": [],
   "source": [
    "# Step 3: Preprocess the Data\n",
    "# Ensure the data is sorted by date\n",
    "df = df.sort_index()"
   ]
  },
  {
   "cell_type": "code",
   "execution_count": null,
   "id": "57794ac6",
   "metadata": {},
   "outputs": [],
   "source": [
    "# Step 4: Visualize the Data\n",
    "plt.figure(figsize=(12, 6))\n",
    "plt.plot(df['Close'], label='DJIA Close Price')\n",
    "plt.title('Dow Jones Industrial Average')\n",
    "plt.xlabel('Date')\n",
    "plt.ylabel('Close Price')\n",
    "plt.legend()\n",
    "plt.show()"
   ]
  },
  {
   "cell_type": "code",
   "execution_count": null,
   "id": "3d461ce3",
   "metadata": {},
   "outputs": [],
   "source": [
    "# Step 5: Determine SARIMA Parameters\n",
    "# Plot ACF and PACF\n",
    "plot_acf(df['Close'])\n",
    "plt.title('ACF Plot')\n",
    "plt.show()\n",
    "\n",
    "plot_pacf(df['Close'])\n",
    "plt.title('PACF Plot')\n",
    "plt.show()\n",
    "\n",
    "# Based on the ACF and PACF plots, choose p, d, q, P, D, Q, s\n",
    "# Example parameters (you should adjust these based on your analysis)\n",
    "p = 1\n",
    "d = 1\n",
    "q = 1\n",
    "P = 1\n",
    "D = 1\n",
    "Q = 1\n",
    "s = 12  # Monthly seasonality, adjust based on your data\n",
    "\n"
   ]
  },
  {
   "cell_type": "code",
   "execution_count": null,
   "id": "6d3cfb03",
   "metadata": {},
   "outputs": [],
   "source": [
    "# Step 6: Fit the SARIMA Model\n",
    "model = SARIMAX(df['Close'], order=(p, d, q), seasonal_order=(P, D, Q, s))\n",
    "results = model.fit()"
   ]
  },
  {
   "cell_type": "code",
   "execution_count": null,
   "id": "7f5bb411",
   "metadata": {},
   "outputs": [],
   "source": [
    "# Step 7: Make Predictions\n",
    "# Forecast the next 30 days\n",
    "forecast = results.get_forecast(steps=30)\n",
    "forecast_index = [df.index[-1] + timedelta(days=i) for i in range(1, 31)]\n",
    "forecast_values = forecast.predicted_mean"
   ]
  },
  {
   "cell_type": "code",
   "execution_count": null,
   "id": "78b732c6",
   "metadata": {},
   "outputs": [],
   "source": [
    "# Step 8: Visualize the Predictions\n",
    "plt.figure(figsize=(12, 6))\n",
    "plt.plot(df['Close'], label='Historical DJIA Close Price')\n",
    "plt.plot(forecast_index, forecast_values, label='Forecasted DJIA Close Price', color='red')\n",
    "plt.title('DJIA Forecast for Next 30 Days')\n",
    "plt.xlabel('Date')\n",
    "plt.ylabel('Close Price')\n",
    "plt.legend()\n",
    "plt.show()"
   ]
  }
 ],
 "metadata": {
  "language_info": {
   "name": "python"
  }
 },
 "nbformat": 4,
 "nbformat_minor": 5
}
